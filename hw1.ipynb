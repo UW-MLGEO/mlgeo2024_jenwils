{
 "cells": [
  {
   "cell_type": "markdown",
   "metadata": {},
   "source": [
    "Demonstrate your ability to import modules, declare list and NumPy arrays, declare basic python functions, and make simple Matplotlib figures to be saved in PNGs."
   ]
  },
  {
   "cell_type": "code",
   "execution_count": null,
   "metadata": {},
   "outputs": [],
   "source": [
    "import numpy as np\n",
    "import matplotlib.pyplot as plt\n",
    "from typing import List\n",
    "\n",
    "def main() -> None:\n",
    "\n",
    "    #declare a list with numbers 1-20\n",
    "    data_list: List[float] = [i for i in range(1,21)]\n",
    "   \n",
    "    #declare a numpy array of size 20 initialized with zeros\n",
    "    data_array: np.ndarray = np.array([[i, i * 1.2] for i in data_list])\n",
    "\n",
    "    print(\"List:\", data_list)\n",
    "    print(\"Shape of 2D NumPy Array:\", data_array.shape)\n",
    "    print(\"2D NumPy Array:\\n\", data_array)\n",
    "    \n",
    "    plot_array(data_array)\n",
    "    \n",
    "def plot_array(data_array: np.ndarray) -> None:\n",
    "    # Plot some fun stuff with the 2D data_array\n",
    "    plt.plot(data_array[:, 0], data_array[:, 1], 'r-o', label='data_array')\n",
    "    plt.xlabel(\"X-axis\")\n",
    "    plt.ylabel(\"Y-axis\")\n",
    "    plt.title(\"2D NumPy Array\")\n",
    "    plt.legend()\n",
    "    plt.grid(True)\n",
    "    \n",
    "    plt.savefig(\"2D_numpy_array.png\")\n",
    "    \n",
    "    plt.show()\n",
    "    \n",
    "\n",
    "    \n",
    "if __name__ == \"__main__\":\n",
    "    main()\n"
   ]
  }
 ],
 "metadata": {
  "kernelspec": {
   "display_name": "mlgeo",
   "language": "python",
   "name": "python3"
  },
  "language_info": {
   "codemirror_mode": {
    "name": "ipython",
    "version": 3
   },
   "file_extension": ".py",
   "mimetype": "text/x-python",
   "name": "python",
   "nbconvert_exporter": "python",
   "pygments_lexer": "ipython3",
   "version": "3.11.10"
  }
 },
 "nbformat": 4,
 "nbformat_minor": 2
}
