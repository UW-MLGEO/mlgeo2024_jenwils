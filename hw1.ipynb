{
 "cells": [
  {
   "cell_type": "markdown",
   "metadata": {},
   "source": [
    "Demonstrate your ability to import modules, declare list and NumPy arrays, declare basic python functions, and make simple Matplotlib figures to be saved in PNGs."
   ]
  },
  {
   "cell_type": "code",
   "execution_count": 35,
   "metadata": {},
   "outputs": [
    {
     "name": "stdout",
     "output_type": "stream",
     "text": [
      "List: [1, 2, 3, 4, 5, 6, 7, 8, 9, 10, 11, 12, 13, 14, 15, 16, 17, 18, 19, 20]\n",
      "Shape of 2D NumPy Array: (20, 2)\n",
      "2D NumPy Array:\n",
      " [[ 1.   1.2]\n",
      " [ 2.   2.4]\n",
      " [ 3.   3.6]\n",
      " [ 4.   4.8]\n",
      " [ 5.   6. ]\n",
      " [ 6.   7.2]\n",
      " [ 7.   8.4]\n",
      " [ 8.   9.6]\n",
      " [ 9.  10.8]\n",
      " [10.  12. ]\n",
      " [11.  13.2]\n",
      " [12.  14.4]\n",
      " [13.  15.6]\n",
      " [14.  16.8]\n",
      " [15.  18. ]\n",
      " [16.  19.2]\n",
      " [17.  20.4]\n",
      " [18.  21.6]\n",
      " [19.  22.8]\n",
      " [20.  24. ]]\n"
     ]
    },
    {
     "ename": "TypeError",
     "evalue": "plot_array() missing 1 required positional argument: 'filename'",
     "output_type": "error",
     "traceback": [
      "\u001b[0;31m---------------------------------------------------------------------------\u001b[0m",
      "\u001b[0;31mTypeError\u001b[0m                                 Traceback (most recent call last)",
      "Cell \u001b[0;32mIn[35], line 51\u001b[0m\n\u001b[1;32m     46\u001b[0m     plt\u001b[38;5;241m.\u001b[39mshow()\n\u001b[1;32m     50\u001b[0m \u001b[38;5;28;01mif\u001b[39;00m \u001b[38;5;18m__name__\u001b[39m \u001b[38;5;241m==\u001b[39m \u001b[38;5;124m\"\u001b[39m\u001b[38;5;124m__main__\u001b[39m\u001b[38;5;124m\"\u001b[39m:\n\u001b[0;32m---> 51\u001b[0m     \u001b[43mmain\u001b[49m\u001b[43m(\u001b[49m\u001b[43m)\u001b[49m\n",
      "Cell \u001b[0;32mIn[35], line 17\u001b[0m, in \u001b[0;36mmain\u001b[0;34m()\u001b[0m\n\u001b[1;32m     14\u001b[0m \u001b[38;5;28mprint\u001b[39m(\u001b[38;5;124m\"\u001b[39m\u001b[38;5;124mShape of 2D NumPy Array:\u001b[39m\u001b[38;5;124m\"\u001b[39m, data_array\u001b[38;5;241m.\u001b[39mshape)\n\u001b[1;32m     15\u001b[0m \u001b[38;5;28mprint\u001b[39m(\u001b[38;5;124m\"\u001b[39m\u001b[38;5;124m2D NumPy Array:\u001b[39m\u001b[38;5;130;01m\\n\u001b[39;00m\u001b[38;5;124m\"\u001b[39m, data_array)\n\u001b[0;32m---> 17\u001b[0m \u001b[43mplot_array\u001b[49m\u001b[43m(\u001b[49m\u001b[43mdata_array\u001b[49m\u001b[43m)\u001b[49m\n\u001b[1;32m     19\u001b[0m \u001b[38;5;66;03m# adjust the 2d array to make a different graph\u001b[39;00m\n\u001b[1;32m     20\u001b[0m data_array[:, \u001b[38;5;241m1\u001b[39m] \u001b[38;5;241m=\u001b[39m data_array[:, \u001b[38;5;241m1\u001b[39m] \u001b[38;5;241m*\u001b[39m np\u001b[38;5;241m.\u001b[39marray([\u001b[38;5;241m1\u001b[39m \u001b[38;5;28;01mif\u001b[39;00m i \u001b[38;5;241m%\u001b[39m \u001b[38;5;241m2\u001b[39m \u001b[38;5;241m==\u001b[39m \u001b[38;5;241m0\u001b[39m \u001b[38;5;28;01melse\u001b[39;00m \u001b[38;5;241m-\u001b[39m\u001b[38;5;241m1\u001b[39m \u001b[38;5;28;01mfor\u001b[39;00m i \u001b[38;5;129;01min\u001b[39;00m \u001b[38;5;28mrange\u001b[39m(\u001b[38;5;28mlen\u001b[39m(data_array))])\n",
      "\u001b[0;31mTypeError\u001b[0m: plot_array() missing 1 required positional argument: 'filename'"
     ]
    }
   ],
   "source": [
    "import numpy as np\n",
    "import matplotlib.pyplot as plt\n",
    "from typing import List\n",
    "\n",
    "def main() -> None:\n",
    "\n",
    "    #declare a list with numbers 1-20\n",
    "    data_list: List[float] = [i for i in range(1,21)]\n",
    "   \n",
    "    #declare a numpy array of size 20 initialized with zeros\n",
    "    data_array: np.ndarray = np.array([[i, i * 1.2] for i in data_list])\n",
    "\n",
    "    print(\"List:\", data_list)\n",
    "    print(\"Shape of 2D NumPy Array:\", data_array.shape)\n",
    "    print(\"2D NumPy Array:\\n\", data_array)\n",
    "    \n",
    "    plot_array(data_array)\n",
    "    \n",
    "    # adjust the 2d array to make a different graph\n",
    "    data_array[:, 1] = data_array[:, 1] * np.array([1 if i % 2 == 0 else -1 for i in range(len(data_array))])\n",
    "    \n",
    "    plot_array(data_array)\n",
    "    \n",
    "def plot_array(data_array: np.ndarray) -> None:\n",
    "    # Plot some fun stuff with the 2D data_array\n",
    "    plt.plot(data_array[:, 0], data_array[:, 1], 'b-o', label='data_array')\n",
    "    plt.xlabel(\"X-axis\")\n",
    "    plt.ylabel(\"Y-axis\")\n",
    "    plt.title(\"2D NumPy Array\")\n",
    "    plt.legend()\n",
    "    plt.grid(True)\n",
    "    \n",
    "    plt.savefig(\"2D_numpy_array.png\")\n",
    "    \n",
    "    plt.show()\n",
    "    \n",
    "\n",
    "    \n",
    "if __name__ == \"__main__\":\n",
    "    main()\n"
   ]
  }
 ],
 "metadata": {
  "kernelspec": {
   "display_name": "mlgeo",
   "language": "python",
   "name": "python3"
  },
  "language_info": {
   "codemirror_mode": {
    "name": "ipython",
    "version": 3
   },
   "file_extension": ".py",
   "mimetype": "text/x-python",
   "name": "python",
   "nbconvert_exporter": "python",
   "pygments_lexer": "ipython3",
   "version": "3.11.10"
  }
 },
 "nbformat": 4,
 "nbformat_minor": 2
}
