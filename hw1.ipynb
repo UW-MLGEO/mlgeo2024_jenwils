{
 "cells": [
  {
   "cell_type": "markdown",
   "metadata": {},
   "source": [
    "Demonstrate your ability to import modules, declare list and NumPy arrays, declare basic python functions, and make simple Matplotlib figures to be saved in PNGs."
   ]
  },
  {
   "cell_type": "code",
   "execution_count": 22,
   "metadata": {},
   "outputs": [
    {
     "name": "stdout",
     "output_type": "stream",
     "text": [
      "List: [1, 2, 3, 4, 5, 6, 7, 8, 9, 10, 11, 12, 13, 14, 15, 16, 17, 18, 19, 20]\n",
      "Shape of 2D NumPy Array: (20, 2)\n",
      "2D NumPy Array:\n",
      " [[ 1.   1.2]\n",
      " [ 2.   2.4]\n",
      " [ 3.   3.6]\n",
      " [ 4.   4.8]\n",
      " [ 5.   6. ]\n",
      " [ 6.   7.2]\n",
      " [ 7.   8.4]\n",
      " [ 8.   9.6]\n",
      " [ 9.  10.8]\n",
      " [10.  12. ]\n",
      " [11.  13.2]\n",
      " [12.  14.4]\n",
      " [13.  15.6]\n",
      " [14.  16.8]\n",
      " [15.  18. ]\n",
      " [16.  19.2]\n",
      " [17.  20.4]\n",
      " [18.  21.6]\n",
      " [19.  22.8]\n",
      " [20.  24. ]]\n"
     ]
    }
   ],
   "source": [
    "import numpy as np\n",
    "import matplotlib.pyplot as plt\n",
    "from typing import List\n",
    "\n",
    "def main() -> None:\n",
    "\n",
    "    #declare a list with numbers 1-20\n",
    "    data_list: List[float] = [i for i in range(1,21)]\n",
    "   \n",
    "    #declare a numpy array of size 20 initialized with zeros\n",
    "    data_array: np.ndarray = np.array([[i, i * 1.2] for i in data_list])\n",
    "\n",
    "    print(\"List:\", data_list)\n",
    "    print(\"Shape of 2D NumPy Array:\", data_array.shape)\n",
    "    print(\"2D NumPy Array:\\n\", data_array)\n",
    "    \n",
    "    # data_array_3d: np.ndarray = big_array(data_array)\n",
    "    \n",
    "    # print(\"Shape of 3D NumPy Array:\", data_array_3d.shape)\n",
    "    # print(\"3D Numpy Array:\\n\", data_array_3d)\n",
    "    \n",
    "def big_array(data_array: np.ndarray) -> np.ndarray:\n",
    "    # Create the third dimension by multiplying the second dimension by 0.7\n",
    "    third_dimension = data_array[:, 1] * 0.7\n",
    "    # Expand dimensions of third_dimension to match data_array\n",
    "    third_dimension_expanded = third_dimension[:, np.newaxis]\n",
    "    # Stack the original 2D array with the new third dimension to form a 3D array\n",
    "    data_array_3d = np.dstack((data_array, third_dimension_expanded))\n",
    "    return data_array_3d\n",
    "    \n",
    "if __name__ == \"__main__\":\n",
    "    main()\n"
   ]
  }
 ],
 "metadata": {
  "kernelspec": {
   "display_name": "mlgeo",
   "language": "python",
   "name": "python3"
  },
  "language_info": {
   "codemirror_mode": {
    "name": "ipython",
    "version": 3
   },
   "file_extension": ".py",
   "mimetype": "text/x-python",
   "name": "python",
   "nbconvert_exporter": "python",
   "pygments_lexer": "ipython3",
   "version": "3.11.10"
  }
 },
 "nbformat": 4,
 "nbformat_minor": 2
}
